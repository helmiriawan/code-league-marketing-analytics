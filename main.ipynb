{
  "nbformat": 4,
  "nbformat_minor": 0,
  "metadata": {
    "colab": {
      "name": "main.ipynb",
      "provenance": []
    },
    "kernelspec": {
      "name": "python3",
      "display_name": "Python 3"
    }
  },
  "cells": [
    {
      "cell_type": "code",
      "metadata": {
        "id": "XwZudR0XNukH",
        "colab_type": "code",
        "colab": {}
      },
      "source": [
        "import numpy as np\n",
        "import pandas as pd\n",
        "\n",
        "from sklearn import preprocessing\n",
        "from sklearn.model_selection import train_test_split\n",
        "\n",
        "from imblearn.over_sampling import SMOTE\n",
        "from sklearn.linear_model import LogisticRegression\n",
        "\n",
        "from sklearn.metrics import accuracy_score\n",
        "from sklearn.metrics import matthews_corrcoef\n",
        "from sklearn.metrics import plot_confusion_matrix"
      ],
      "execution_count": null,
      "outputs": []
    },
    {
      "cell_type": "markdown",
      "metadata": {
        "id": "JdTi9RDvPBQp",
        "colab_type": "text"
      },
      "source": [
        "# Data Preparation"
      ]
    },
    {
      "cell_type": "code",
      "metadata": {
        "id": "A2Pa6IgjPD4I",
        "colab_type": "code",
        "colab": {}
      },
      "source": [
        "# Mount gdrive\n",
        "from google.colab import drive, files\n",
        "drive.mount('gdrive')"
      ],
      "execution_count": null,
      "outputs": []
    },
    {
      "cell_type": "code",
      "metadata": {
        "id": "VjW9LT4JO_wa",
        "colab_type": "code",
        "colab": {}
      },
      "source": [
        "# Specify input file location\n",
        "training_file = 'gdrive/My Drive/shopee/train.csv'\n",
        "test_file = 'gdrive/My Drive/shopee/test.csv'\n",
        "user_file = 'gdrive/My Drive/shopee/users.csv'"
      ],
      "execution_count": 3,
      "outputs": []
    },
    {
      "cell_type": "code",
      "metadata": {
        "id": "Bghf6RydPkvN",
        "colab_type": "code",
        "colab": {}
      },
      "source": [
        "# Load dataset\n",
        "training_data = pd.read_csv(training_file)\n",
        "test_data = pd.read_csv(test_file)\n",
        "user_data = pd.read_csv(user_file)"
      ],
      "execution_count": 4,
      "outputs": []
    },
    {
      "cell_type": "code",
      "metadata": {
        "id": "AK_nwdC3Pm6A",
        "colab_type": "code",
        "colab": {}
      },
      "source": [
        "# Merge with user data\n",
        "training_data = pd.merge(training_data, user_data, on='user_id', how='inner')\n",
        "test_data = pd.merge(test_data, user_data, on='user_id', how='inner')"
      ],
      "execution_count": 5,
      "outputs": []
    },
    {
      "cell_type": "code",
      "metadata": {
        "id": "qTtRt5KMPpY_",
        "colab_type": "code",
        "colab": {}
      },
      "source": [
        "# Change column type in training data\n",
        "training_data['country_code'] = training_data['country_code'].astype('str')\n",
        "training_data['attr_3'] = training_data['attr_3'].astype('str')\n",
        "training_data['grass_date'] = pd.to_datetime(\n",
        "    training_data.grass_date, \n",
        "    format='%Y-%m-%d %H:%M:%S', \n",
        "    errors='coerce'\n",
        ")\n",
        "\n",
        "# Change column type in test data\n",
        "test_data['country_code'] = test_data['country_code'].astype('str')\n",
        "test_data['attr_3'] = test_data['attr_3'].astype('str')\n",
        "test_data['grass_date'] = pd.to_datetime(\n",
        "    test_data.grass_date, \n",
        "    format='%Y-%m-%d %H:%M:%S', \n",
        "    errors='coerce'\n",
        ")"
      ],
      "execution_count": 6,
      "outputs": []
    },
    {
      "cell_type": "code",
      "metadata": {
        "id": "6rA8bnFKPqmg",
        "colab_type": "code",
        "colab": {}
      },
      "source": [
        "# Specify input variables\n",
        "variables = [\n",
        "    'country_code',\n",
        "    'subject_line_length', \n",
        "    'open_count_last_10_days',\n",
        "    'open_count_last_30_days',\n",
        "    'open_count_last_60_days',\n",
        "    'domain'\n",
        "]"
      ],
      "execution_count": 7,
      "outputs": []
    },
    {
      "cell_type": "code",
      "metadata": {
        "id": "Axm_7m1ZPr1u",
        "colab_type": "code",
        "colab": {}
      },
      "source": [
        "# Filter the data\n",
        "x = training_data[variables]\n",
        "y = training_data['open_flag']\n",
        "x_test = test_data[variables]"
      ],
      "execution_count": 8,
      "outputs": []
    },
    {
      "cell_type": "code",
      "metadata": {
        "id": "DgoJQCALPtEI",
        "colab_type": "code",
        "colab": {}
      },
      "source": [
        "# Encode categorical variables\n",
        "x = pd.get_dummies(x)\n",
        "x_test = pd.get_dummies(x_test)"
      ],
      "execution_count": 9,
      "outputs": []
    },
    {
      "cell_type": "code",
      "metadata": {
        "id": "Xt57xDt0PuTA",
        "colab_type": "code",
        "colab": {}
      },
      "source": [
        "# Split the data into training and validation set\n",
        "x_train, x_validation, y_train, y_validation = train_test_split(\n",
        "    x, \n",
        "    y, \n",
        "    test_size=0.2,\n",
        "    random_state=42\n",
        ")"
      ],
      "execution_count": 10,
      "outputs": []
    },
    {
      "cell_type": "code",
      "metadata": {
        "id": "z4JP8RETPvQm",
        "colab_type": "code",
        "colab": {}
      },
      "source": [
        "# Generate a normalizer\n",
        "scaler = preprocessing.StandardScaler().fit(x_train)\n",
        "\n",
        "# Normalize the data\n",
        "x_train = scaler.transform(x_train)\n",
        "x_validation = scaler.transform(x_validation)\n",
        "x_test = scaler.transform(x_test)"
      ],
      "execution_count": 11,
      "outputs": []
    },
    {
      "cell_type": "markdown",
      "metadata": {
        "id": "A22zLl0sPw2A",
        "colab_type": "text"
      },
      "source": [
        "# Modeling"
      ]
    },
    {
      "cell_type": "code",
      "metadata": {
        "id": "xFzax6t2PwTU",
        "colab_type": "code",
        "colab": {}
      },
      "source": [
        "# Use artificial data\n",
        "oversampling = SMOTE(sampling_strategy=0.5)\n",
        "x_train, y_train = oversampling.fit_sample(x_train, y_train)"
      ],
      "execution_count": null,
      "outputs": []
    },
    {
      "cell_type": "code",
      "metadata": {
        "id": "lo3Gh7gVPzHr",
        "colab_type": "code",
        "colab": {
          "base_uri": "https://localhost:8080/",
          "height": 101
        },
        "outputId": "79eeb1b2-5fc0-42ce-e44f-14ca48e80a5e"
      },
      "source": [
        "# Train the classifier\n",
        "classifier = LogisticRegression()\n",
        "classifier.fit(x_train, y_train)"
      ],
      "execution_count": 13,
      "outputs": [
        {
          "output_type": "execute_result",
          "data": {
            "text/plain": [
              "LogisticRegression(C=1.0, class_weight=None, dual=False, fit_intercept=True,\n",
              "                   intercept_scaling=1, l1_ratio=None, max_iter=100,\n",
              "                   multi_class='auto', n_jobs=None, penalty='l2',\n",
              "                   random_state=None, solver='lbfgs', tol=0.0001, verbose=0,\n",
              "                   warm_start=False)"
            ]
          },
          "metadata": {
            "tags": []
          },
          "execution_count": 13
        }
      ]
    },
    {
      "cell_type": "code",
      "metadata": {
        "id": "5nU8HKSiP0H5",
        "colab_type": "code",
        "colab": {
          "base_uri": "https://localhost:8080/",
          "height": 50
        },
        "outputId": "483c3a20-4f8a-4dfe-8ba8-bdbeaa4ac02c"
      },
      "source": [
        "# Evaluate the model\n",
        "y_prediction = classifier.predict(x_validation)\n",
        "print(\"Accuracy\\t: %.4f\" % accuracy_score(y_validation, y_prediction))\n",
        "print(\"MCC\\t\\t: %.4f\" % matthews_corrcoef(y_validation, y_prediction))"
      ],
      "execution_count": 14,
      "outputs": [
        {
          "output_type": "stream",
          "text": [
            "Accuracy\t: 0.8700\n",
            "MCC\t\t: 0.5026\n"
          ],
          "name": "stdout"
        }
      ]
    },
    {
      "cell_type": "code",
      "metadata": {
        "id": "P3Ks3u73QNh2",
        "colab_type": "code",
        "colab": {
          "base_uri": "https://localhost:8080/",
          "height": 279
        },
        "outputId": "503a32d3-0746-4a1f-a571-fec2f9e7c202"
      },
      "source": [
        "# Show confusion matrix\n",
        "plot_confusion_matrix(classifier, x_validation, y_validation, normalize='true');"
      ],
      "execution_count": 15,
      "outputs": [
        {
          "output_type": "display_data",
          "data": {
            "image/png": "[encoded data removed]",
            "text/plain": [
              "<Figure size 432x288 with 2 Axes>"
            ]
          },
          "metadata": {
            "tags": [],
            "needs_background": "light"
          }
        }
      ]
    },
    {
      "cell_type": "markdown",
      "metadata": {
        "id": "BnrRUsddP3DP",
        "colab_type": "text"
      },
      "source": [
        "# Submission"
      ]
    },
    {
      "cell_type": "code",
      "metadata": {
        "id": "BeRmpHxsP1BU",
        "colab_type": "code",
        "colab": {}
      },
      "source": [
        "# Generate prediction\n",
        "prediction = classifier.predict(x_test)\n",
        "test_data['open_flag'] = prediction"
      ],
      "execution_count": 16,
      "outputs": []
    },
    {
      "cell_type": "code",
      "metadata": {
        "id": "CLosYvkyP467",
        "colab_type": "code",
        "colab": {}
      },
      "source": [
        "# Generate submission file\n",
        "test_data.loc[:, ['row_id', 'open_flag']].to_csv('submission.csv', index=False)"
      ],
      "execution_count": 17,
      "outputs": []
    }
  ]
}