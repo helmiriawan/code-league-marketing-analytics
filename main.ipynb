{
  "nbformat": 4,
  "nbformat_minor": 0,
  "metadata": {
    "colab": {
      "name": "main.ipynb",
      "provenance": []
    },
    "kernelspec": {
      "name": "python3",
      "display_name": "Python 3"
    }
  },
  "cells": [
    {
      "cell_type": "code",
      "metadata": {
        "id": "XwZudR0XNukH",
        "colab_type": "code",
        "colab": {
          "base_uri": "https://localhost:8080/",
          "height": 104
        },
        "outputId": "3ee9bed0-76b0-42aa-b717-dbe5dc563c7b"
      },
      "source": [
        "import time\n",
        "import numpy as np\n",
        "import pandas as pd\n",
        "\n",
        "from sklearn import preprocessing\n",
        "from imblearn.over_sampling import SMOTE\n",
        "from sklearn.model_selection import GridSearchCV, train_test_split\n",
        "\n",
        "from sklearn.neighbors import KNeighborsClassifier\n",
        "from sklearn.metrics import make_scorer, matthews_corrcoef\n",
        "from sklearn.metrics import plot_confusion_matrix"
      ],
      "execution_count": 1,
      "outputs": [
        {
          "output_type": "stream",
          "text": [
            "/usr/local/lib/python3.6/dist-packages/sklearn/externals/six.py:31: FutureWarning: The module is deprecated in version 0.21 and will be removed in version 0.23 since we've dropped support for Python 2.7. Please rely on the official version of six (https://pypi.org/project/six/).\n",
            "  \"(https://pypi.org/project/six/).\", FutureWarning)\n",
            "/usr/local/lib/python3.6/dist-packages/sklearn/utils/deprecation.py:144: FutureWarning: The sklearn.neighbors.base module is  deprecated in version 0.22 and will be removed in version 0.24. The corresponding classes / functions should instead be imported from sklearn.neighbors. Anything that cannot be imported from sklearn.neighbors is now part of the private API.\n",
            "  warnings.warn(message, FutureWarning)\n"
          ],
          "name": "stderr"
        }
      ]
    },
    {
      "cell_type": "markdown",
      "metadata": {
        "id": "JdTi9RDvPBQp",
        "colab_type": "text"
      },
      "source": [
        "# Data Preparation"
      ]
    },
    {
      "cell_type": "code",
      "metadata": {
        "id": "A2Pa6IgjPD4I",
        "colab_type": "code",
        "colab": {
          "base_uri": "https://localhost:8080/",
          "height": 34
        },
        "outputId": "fe171a09-3642-4bbb-b501-342294733de9"
      },
      "source": [
        "# Mount gdrive\n",
        "from google.colab import drive, files\n",
        "drive.mount('gdrive')"
      ],
      "execution_count": 2,
      "outputs": [
        {
          "output_type": "stream",
          "text": [
            "Drive already mounted at gdrive; to attempt to forcibly remount, call drive.mount(\"gdrive\", force_remount=True).\n"
          ],
          "name": "stdout"
        }
      ]
    },
    {
      "cell_type": "code",
      "metadata": {
        "id": "VjW9LT4JO_wa",
        "colab_type": "code",
        "colab": {}
      },
      "source": [
        "# Specify input file location\n",
        "training_file = 'gdrive/My Drive/shopee/train.csv'\n",
        "test_file = 'gdrive/My Drive/shopee/test.csv'\n",
        "user_file = 'gdrive/My Drive/shopee/users.csv'"
      ],
      "execution_count": 3,
      "outputs": []
    },
    {
      "cell_type": "code",
      "metadata": {
        "id": "Bghf6RydPkvN",
        "colab_type": "code",
        "colab": {}
      },
      "source": [
        "# Load dataset\n",
        "training_data = pd.read_csv(training_file)\n",
        "test_data = pd.read_csv(test_file)\n",
        "user_data = pd.read_csv(user_file)"
      ],
      "execution_count": 4,
      "outputs": []
    },
    {
      "cell_type": "code",
      "metadata": {
        "id": "AK_nwdC3Pm6A",
        "colab_type": "code",
        "colab": {}
      },
      "source": [
        "# Merge with user data\n",
        "training_data = pd.merge(training_data, user_data, on='user_id', how='inner')\n",
        "test_data = pd.merge(test_data, user_data, on='user_id', how='inner')"
      ],
      "execution_count": 5,
      "outputs": []
    },
    {
      "cell_type": "code",
      "metadata": {
        "id": "qTtRt5KMPpY_",
        "colab_type": "code",
        "colab": {}
      },
      "source": [
        "# Change column type in training data\n",
        "training_data['country_code'] = training_data['country_code'].astype('str')\n",
        "training_data['attr_3'] = training_data['attr_3'].astype('str')\n",
        "training_data['grass_date'] = pd.to_datetime(\n",
        "    training_data.grass_date, \n",
        "    format='%Y-%m-%d %H:%M:%S', \n",
        "    errors='coerce'\n",
        ")\n",
        "\n",
        "# Change column type in test data\n",
        "test_data['country_code'] = test_data['country_code'].astype('str')\n",
        "test_data['attr_3'] = test_data['attr_3'].astype('str')\n",
        "test_data['grass_date'] = pd.to_datetime(\n",
        "    test_data.grass_date, \n",
        "    format='%Y-%m-%d %H:%M:%S', \n",
        "    errors='coerce'\n",
        ")"
      ],
      "execution_count": 6,
      "outputs": []
    },
    {
      "cell_type": "code",
      "metadata": {
        "id": "6rA8bnFKPqmg",
        "colab_type": "code",
        "colab": {}
      },
      "source": [
        "# Specify input variables\n",
        "variables = [\n",
        "    'country_code',\n",
        "    'subject_line_length', \n",
        "    'open_count_last_10_days',\n",
        "    'open_count_last_30_days',\n",
        "    'open_count_last_60_days'\n",
        "]"
      ],
      "execution_count": 7,
      "outputs": []
    },
    {
      "cell_type": "code",
      "metadata": {
        "id": "Axm_7m1ZPr1u",
        "colab_type": "code",
        "colab": {}
      },
      "source": [
        "# Data selection\n",
        "x = training_data[variables]\n",
        "y = training_data['open_flag']\n",
        "x_test = test_data[variables]"
      ],
      "execution_count": 8,
      "outputs": []
    },
    {
      "cell_type": "code",
      "metadata": {
        "id": "oQ-Sevuf5E6I",
        "colab_type": "code",
        "colab": {}
      },
      "source": [
        "# Encode categorical variables\n",
        "x = pd.get_dummies(x)\n",
        "x_test = pd.get_dummies(x_test)"
      ],
      "execution_count": 9,
      "outputs": []
    },
    {
      "cell_type": "code",
      "metadata": {
        "id": "Xt57xDt0PuTA",
        "colab_type": "code",
        "colab": {}
      },
      "source": [
        "# Split the data into training and validation set\n",
        "x_train, x_validation, y_train, y_validation = train_test_split(\n",
        "    x, \n",
        "    y, \n",
        "    test_size=0.2,\n",
        "    random_state=42\n",
        ")"
      ],
      "execution_count": 10,
      "outputs": []
    },
    {
      "cell_type": "code",
      "metadata": {
        "id": "WIAOFLRr3WNA",
        "colab_type": "code",
        "colab": {}
      },
      "source": [
        "# Generate a normalizer\n",
        "scaler = preprocessing.StandardScaler().fit(x_train)\n",
        "\n",
        "# Normalize the data\n",
        "x_train = scaler.transform(x_train)\n",
        "x_validation = scaler.transform(x_validation)\n",
        "x_test = scaler.transform(x_test)"
      ],
      "execution_count": 11,
      "outputs": []
    },
    {
      "cell_type": "markdown",
      "metadata": {
        "id": "A22zLl0sPw2A",
        "colab_type": "text"
      },
      "source": [
        "# Modeling"
      ]
    },
    {
      "cell_type": "code",
      "metadata": {
        "id": "js2NyoJdfVSn",
        "colab_type": "code",
        "colab": {}
      },
      "source": [
        "# Define classifier\n",
        "classifier = KNeighborsClassifier()"
      ],
      "execution_count": 12,
      "outputs": []
    },
    {
      "cell_type": "code",
      "metadata": {
        "id": "IUc8mBZ1ds_N",
        "colab_type": "code",
        "colab": {}
      },
      "source": [
        "# Specify the list of hyperparameters\n",
        "hyperparameters = {\n",
        "    \"n_neighbors\": list(range(1, 21))\n",
        "}"
      ],
      "execution_count": 13,
      "outputs": []
    },
    {
      "cell_type": "code",
      "metadata": {
        "id": "rNZQ6GC7fRGJ",
        "colab_type": "code",
        "colab": {}
      },
      "source": [
        "# Define the model selection method\n",
        "mcc_scorer = make_scorer(matthews_corrcoef)\n",
        "model_selection = GridSearchCV(\n",
        "    classifier, \n",
        "    hyperparameters, \n",
        "    cv=5, \n",
        "    scoring=mcc_scorer\n",
        ")"
      ],
      "execution_count": 14,
      "outputs": []
    },
    {
      "cell_type": "code",
      "metadata": {
        "id": "4UvqUi1KfswH",
        "colab_type": "code",
        "colab": {
          "base_uri": "https://localhost:8080/",
          "height": 34
        },
        "outputId": "c6d1d8de-02eb-40c7-c0d9-b26d6bff1cf3"
      },
      "source": [
        "# Find the best hyperparameters\n",
        "start = time.time()\n",
        "model_selection.fit(x, y)\n",
        "time.time() - start"
      ],
      "execution_count": 15,
      "outputs": [
        {
          "output_type": "execute_result",
          "data": {
            "text/plain": [
              "113.61495804786682"
            ]
          },
          "metadata": {
            "tags": []
          },
          "execution_count": 15
        }
      ]
    },
    {
      "cell_type": "code",
      "metadata": {
        "id": "Xjyq7VQYf73K",
        "colab_type": "code",
        "colab": {
          "base_uri": "https://localhost:8080/",
          "height": 34
        },
        "outputId": "3efc0e64-9796-4115-ff25-942ba8fdbe09"
      },
      "source": [
        "# Show the best hyperparameters\n",
        "model_selection.best_params_"
      ],
      "execution_count": 16,
      "outputs": [
        {
          "output_type": "execute_result",
          "data": {
            "text/plain": [
              "{'n_neighbors': 15}"
            ]
          },
          "metadata": {
            "tags": []
          },
          "execution_count": 16
        }
      ]
    },
    {
      "cell_type": "code",
      "metadata": {
        "id": "gwOR8nUZgb9f",
        "colab_type": "code",
        "colab": {
          "base_uri": "https://localhost:8080/",
          "height": 34
        },
        "outputId": "b33c97a5-bedb-4932-83bf-af4cc3b4d524"
      },
      "source": [
        "# Show the best score\n",
        "model_selection.best_score_"
      ],
      "execution_count": 17,
      "outputs": [
        {
          "output_type": "execute_result",
          "data": {
            "text/plain": [
              "0.4091859934802445"
            ]
          },
          "metadata": {
            "tags": []
          },
          "execution_count": 17
        }
      ]
    },
    {
      "cell_type": "code",
      "metadata": {
        "id": "Cg5F3grs6auU",
        "colab_type": "code",
        "colab": {
          "base_uri": "https://localhost:8080/",
          "height": 70
        },
        "outputId": "2827ce5f-5dd4-4bd2-d08e-c93f2af93346"
      },
      "source": [
        "# Use artificial data\n",
        "oversampling = SMOTE(sampling_strategy=0.3)\n",
        "x_train, y_train = oversampling.fit_sample(x_train, y_train)"
      ],
      "execution_count": 18,
      "outputs": [
        {
          "output_type": "stream",
          "text": [
            "/usr/local/lib/python3.6/dist-packages/sklearn/utils/deprecation.py:87: FutureWarning: Function safe_indexing is deprecated; safe_indexing is deprecated in version 0.22 and will be removed in version 0.24.\n",
            "  warnings.warn(msg, category=FutureWarning)\n"
          ],
          "name": "stderr"
        }
      ]
    },
    {
      "cell_type": "code",
      "metadata": {
        "id": "lo3Gh7gVPzHr",
        "colab_type": "code",
        "colab": {
          "base_uri": "https://localhost:8080/",
          "height": 67
        },
        "outputId": "16ed1bb2-4d91-422e-d5a3-3c803a7080bb"
      },
      "source": [
        "# Train the classifier using the best hyperparameters\n",
        "classifier = KNeighborsClassifier(\n",
        "    **model_selection.best_params_\n",
        ")\n",
        "classifier.fit(x_train, y_train)"
      ],
      "execution_count": 19,
      "outputs": [
        {
          "output_type": "execute_result",
          "data": {
            "text/plain": [
              "KNeighborsClassifier(algorithm='auto', leaf_size=30, metric='minkowski',\n",
              "                     metric_params=None, n_jobs=None, n_neighbors=15, p=2,\n",
              "                     weights='uniform')"
            ]
          },
          "metadata": {
            "tags": []
          },
          "execution_count": 19
        }
      ]
    },
    {
      "cell_type": "code",
      "metadata": {
        "id": "5nU8HKSiP0H5",
        "colab_type": "code",
        "colab": {
          "base_uri": "https://localhost:8080/",
          "height": 34
        },
        "outputId": "ccbdea52-9058-49a6-9311-7c0cecc1708f"
      },
      "source": [
        "# Evaluate the model using the evaluation set\n",
        "y_prediction = classifier.predict(x_validation)\n",
        "print(\"MCC\\t\\t: %.4f\" % matthews_corrcoef(y_validation, y_prediction))"
      ],
      "execution_count": 20,
      "outputs": [
        {
          "output_type": "stream",
          "text": [
            "MCC\t\t: 0.4904\n"
          ],
          "name": "stdout"
        }
      ]
    },
    {
      "cell_type": "code",
      "metadata": {
        "id": "P3Ks3u73QNh2",
        "colab_type": "code",
        "colab": {
          "base_uri": "https://localhost:8080/",
          "height": 279
        },
        "outputId": "9452a19a-866f-4cfd-a118-97e8fdd365be"
      },
      "source": [
        "# Evaluate the model using confusion matrix\n",
        "plot_confusion_matrix(classifier, x_validation, y_validation, normalize='true');"
      ],
      "execution_count": 21,
      "outputs": [
        {
          "output_type": "display_data",
          "data": {
            "image/png": "[encoded data removed]",
            "text/plain": [
              "<Figure size 432x288 with 2 Axes>"
            ]
          },
          "metadata": {
            "tags": [],
            "needs_background": "light"
          }
        }
      ]
    },
    {
      "cell_type": "markdown",
      "metadata": {
        "id": "BnrRUsddP3DP",
        "colab_type": "text"
      },
      "source": [
        "# Submission"
      ]
    },
    {
      "cell_type": "code",
      "metadata": {
        "id": "D45pRV9SmldE",
        "colab_type": "code",
        "colab": {
          "base_uri": "https://localhost:8080/",
          "height": 67
        },
        "outputId": "68a7ff56-f88c-4923-ff85-6d587b8aa539"
      },
      "source": [
        "# Retrain the classifier with all training data\n",
        "classifier = KNeighborsClassifier(\n",
        "    **model_selection.best_params_\n",
        ")\n",
        "classifier.fit(x, y)"
      ],
      "execution_count": 22,
      "outputs": [
        {
          "output_type": "execute_result",
          "data": {
            "text/plain": [
              "KNeighborsClassifier(algorithm='auto', leaf_size=30, metric='minkowski',\n",
              "                     metric_params=None, n_jobs=None, n_neighbors=15, p=2,\n",
              "                     weights='uniform')"
            ]
          },
          "metadata": {
            "tags": []
          },
          "execution_count": 22
        }
      ]
    },
    {
      "cell_type": "code",
      "metadata": {
        "id": "BeRmpHxsP1BU",
        "colab_type": "code",
        "colab": {}
      },
      "source": [
        "# Generate prediction\n",
        "prediction = classifier.predict(x_test)\n",
        "test_data['open_flag'] = prediction"
      ],
      "execution_count": 23,
      "outputs": []
    },
    {
      "cell_type": "code",
      "metadata": {
        "id": "CLosYvkyP467",
        "colab_type": "code",
        "colab": {}
      },
      "source": [
        "# Generate submission file\n",
        "test_data.loc[:, ['row_id', 'open_flag']].to_csv('submission.csv', index=False)"
      ],
      "execution_count": 24,
      "outputs": []
    }
  ]
}