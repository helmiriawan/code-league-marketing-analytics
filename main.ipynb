{
  "nbformat": 4,
  "nbformat_minor": 0,
  "metadata": {
    "colab": {
      "name": "main.ipynb",
      "provenance": []
    },
    "kernelspec": {
      "name": "python3",
      "display_name": "Python 3"
    }
  },
  "cells": [
    {
      "cell_type": "code",
      "metadata": {
        "id": "XwZudR0XNukH",
        "colab_type": "code",
        "colab": {}
      },
      "source": [
        "import time\n",
        "import numpy as np\n",
        "import pandas as pd\n",
        "\n",
        "from sklearn import preprocessing\n",
        "from sklearn.model_selection import GridSearchCV, train_test_split\n",
        "\n",
        "from sklearn.ensemble import RandomForestClassifier\n",
        "from sklearn.metrics import make_scorer, matthews_corrcoef\n",
        "from sklearn.metrics import plot_confusion_matrix"
      ],
      "execution_count": 1,
      "outputs": []
    },
    {
      "cell_type": "markdown",
      "metadata": {
        "id": "JdTi9RDvPBQp",
        "colab_type": "text"
      },
      "source": [
        "# Data Preparation"
      ]
    },
    {
      "cell_type": "code",
      "metadata": {
        "id": "A2Pa6IgjPD4I",
        "colab_type": "code",
        "colab": {
          "base_uri": "https://localhost:8080/",
          "height": 34
        },
        "outputId": "d6227988-a21a-41b9-9bed-bcd2a12b1834"
      },
      "source": [
        "# Mount gdrive\n",
        "from google.colab import drive, files\n",
        "drive.mount('gdrive')"
      ],
      "execution_count": 2,
      "outputs": [
        {
          "output_type": "stream",
          "text": [
            "Drive already mounted at gdrive; to attempt to forcibly remount, call drive.mount(\"gdrive\", force_remount=True).\n"
          ],
          "name": "stdout"
        }
      ]
    },
    {
      "cell_type": "code",
      "metadata": {
        "id": "VjW9LT4JO_wa",
        "colab_type": "code",
        "colab": {}
      },
      "source": [
        "# Specify input file location\n",
        "training_file = 'gdrive/My Drive/shopee/train.csv'\n",
        "test_file = 'gdrive/My Drive/shopee/test.csv'\n",
        "user_file = 'gdrive/My Drive/shopee/users.csv'"
      ],
      "execution_count": 3,
      "outputs": []
    },
    {
      "cell_type": "code",
      "metadata": {
        "id": "Bghf6RydPkvN",
        "colab_type": "code",
        "colab": {}
      },
      "source": [
        "# Load dataset\n",
        "training_data = pd.read_csv(training_file)\n",
        "test_data = pd.read_csv(test_file)\n",
        "user_data = pd.read_csv(user_file)"
      ],
      "execution_count": 4,
      "outputs": []
    },
    {
      "cell_type": "code",
      "metadata": {
        "id": "AK_nwdC3Pm6A",
        "colab_type": "code",
        "colab": {}
      },
      "source": [
        "# Merge with user data\n",
        "training_data = pd.merge(training_data, user_data, on='user_id', how='inner')\n",
        "test_data = pd.merge(test_data, user_data, on='user_id', how='inner')"
      ],
      "execution_count": 5,
      "outputs": []
    },
    {
      "cell_type": "code",
      "metadata": {
        "id": "qTtRt5KMPpY_",
        "colab_type": "code",
        "colab": {}
      },
      "source": [
        "# Change column type in training data\n",
        "training_data['country_code'] = training_data['country_code'].astype('str')\n",
        "training_data['attr_3'] = training_data['attr_3'].astype('str')\n",
        "training_data['grass_date'] = pd.to_datetime(\n",
        "    training_data.grass_date, \n",
        "    format='%Y-%m-%d %H:%M:%S', \n",
        "    errors='coerce'\n",
        ")\n",
        "\n",
        "# Change column type in test data\n",
        "test_data['country_code'] = test_data['country_code'].astype('str')\n",
        "test_data['attr_3'] = test_data['attr_3'].astype('str')\n",
        "test_data['grass_date'] = pd.to_datetime(\n",
        "    test_data.grass_date, \n",
        "    format='%Y-%m-%d %H:%M:%S', \n",
        "    errors='coerce'\n",
        ")"
      ],
      "execution_count": 6,
      "outputs": []
    },
    {
      "cell_type": "code",
      "metadata": {
        "id": "6rA8bnFKPqmg",
        "colab_type": "code",
        "colab": {}
      },
      "source": [
        "# Specify input variables\n",
        "variables = [\n",
        "    'country_code',\n",
        "    'subject_line_length', \n",
        "    'open_count_last_10_days',\n",
        "    'open_count_last_30_days',\n",
        "    'open_count_last_60_days'\n",
        "]"
      ],
      "execution_count": 7,
      "outputs": []
    },
    {
      "cell_type": "code",
      "metadata": {
        "id": "Axm_7m1ZPr1u",
        "colab_type": "code",
        "colab": {}
      },
      "source": [
        "# Data selection\n",
        "x = training_data[variables]\n",
        "y = training_data['open_flag']\n",
        "x_test = test_data[variables]"
      ],
      "execution_count": 8,
      "outputs": []
    },
    {
      "cell_type": "code",
      "metadata": {
        "id": "oQ-Sevuf5E6I",
        "colab_type": "code",
        "colab": {}
      },
      "source": [
        "# Encode categorical variables\n",
        "x = pd.get_dummies(x)\n",
        "x_test = pd.get_dummies(x_test)"
      ],
      "execution_count": 9,
      "outputs": []
    },
    {
      "cell_type": "code",
      "metadata": {
        "id": "Xt57xDt0PuTA",
        "colab_type": "code",
        "colab": {}
      },
      "source": [
        "# Split the data into training and validation set\n",
        "x_train, x_validation, y_train, y_validation = train_test_split(\n",
        "    x, \n",
        "    y, \n",
        "    test_size=0.2\n",
        ")"
      ],
      "execution_count": 10,
      "outputs": []
    },
    {
      "cell_type": "markdown",
      "metadata": {
        "id": "A22zLl0sPw2A",
        "colab_type": "text"
      },
      "source": [
        "# Modeling"
      ]
    },
    {
      "cell_type": "code",
      "metadata": {
        "id": "js2NyoJdfVSn",
        "colab_type": "code",
        "colab": {}
      },
      "source": [
        "# Define classifier\n",
        "classifier = RandomForestClassifier()"
      ],
      "execution_count": 11,
      "outputs": []
    },
    {
      "cell_type": "code",
      "metadata": {
        "id": "IUc8mBZ1ds_N",
        "colab_type": "code",
        "colab": {}
      },
      "source": [
        "# Specify the list of hyperparameters\n",
        "hyperparameters = {\n",
        "    \"max_depth\": [12, 9, 6, 3],\n",
        "    \"criterion\": [\"gini\", \"entropy\"],\n",
        "    \"n_estimators\": [10, 50, 100, 200],\n",
        "    \"min_samples_leaf\": [50, 100, 200, 500],\n",
        "    \"class_weight\": [{0:1.0, 1:1.0}, {0:1.0, 1:2.0}, {0:1.0, 1:3.0}]\n",
        "}"
      ],
      "execution_count": 12,
      "outputs": []
    },
    {
      "cell_type": "code",
      "metadata": {
        "id": "rNZQ6GC7fRGJ",
        "colab_type": "code",
        "colab": {}
      },
      "source": [
        "# Define the model selection method\n",
        "mcc_scorer = make_scorer(matthews_corrcoef)\n",
        "model_selection = GridSearchCV(\n",
        "    classifier, \n",
        "    hyperparameters, \n",
        "    cv=5, \n",
        "    scoring=mcc_scorer\n",
        ")"
      ],
      "execution_count": 13,
      "outputs": []
    },
    {
      "cell_type": "code",
      "metadata": {
        "id": "4UvqUi1KfswH",
        "colab_type": "code",
        "colab": {
          "base_uri": "https://localhost:8080/",
          "height": 34
        },
        "outputId": "9ca5ad9b-9fa7-46c2-f3cd-df74f6e9e2a2"
      },
      "source": [
        "# Find the best hyperparameters\n",
        "start = time.time()\n",
        "model_selection.fit(x, y)\n",
        "time.time() - start"
      ],
      "execution_count": 14,
      "outputs": [
        {
          "output_type": "execute_result",
          "data": {
            "text/plain": [
              "3698.684300661087"
            ]
          },
          "metadata": {
            "tags": []
          },
          "execution_count": 14
        }
      ]
    },
    {
      "cell_type": "code",
      "metadata": {
        "id": "Xjyq7VQYf73K",
        "colab_type": "code",
        "colab": {
          "base_uri": "https://localhost:8080/",
          "height": 101
        },
        "outputId": "2b7c281e-a6da-4042-b7f0-cdaf49d7e7aa"
      },
      "source": [
        "# Show the best hyperparameters\n",
        "model_selection.best_params_"
      ],
      "execution_count": 15,
      "outputs": [
        {
          "output_type": "execute_result",
          "data": {
            "text/plain": [
              "{'class_weight': {0: 1.0, 1: 2.0},\n",
              " 'criterion': 'entropy',\n",
              " 'max_depth': 9,\n",
              " 'min_samples_leaf': 100,\n",
              " 'n_estimators': 100}"
            ]
          },
          "metadata": {
            "tags": []
          },
          "execution_count": 15
        }
      ]
    },
    {
      "cell_type": "code",
      "metadata": {
        "id": "gwOR8nUZgb9f",
        "colab_type": "code",
        "colab": {
          "base_uri": "https://localhost:8080/",
          "height": 34
        },
        "outputId": "2eea2911-2da6-4c54-c44a-e31e961aa085"
      },
      "source": [
        "# Show the best score\n",
        "model_selection.best_score_"
      ],
      "execution_count": 16,
      "outputs": [
        {
          "output_type": "execute_result",
          "data": {
            "text/plain": [
              "0.5161767818743824"
            ]
          },
          "metadata": {
            "tags": []
          },
          "execution_count": 16
        }
      ]
    },
    {
      "cell_type": "code",
      "metadata": {
        "id": "lo3Gh7gVPzHr",
        "colab_type": "code",
        "colab": {
          "base_uri": "https://localhost:8080/",
          "height": 151
        },
        "outputId": "a42cc756-6db4-4dc7-99b7-4aac6383d824"
      },
      "source": [
        "# Train the classifier using the best hyperparameters\n",
        "classifier = RandomForestClassifier(\n",
        "    n_estimators=model_selection.best_params_['n_estimators'],\n",
        "    class_weight=model_selection.best_params_['class_weight'],\n",
        "    criterion=model_selection.best_params_['criterion'],\n",
        "    max_depth=model_selection.best_params_['max_depth'],\n",
        "    min_samples_leaf=model_selection.best_params_['min_samples_leaf']\n",
        ")\n",
        "classifier.fit(x_train, y_train)"
      ],
      "execution_count": 17,
      "outputs": [
        {
          "output_type": "execute_result",
          "data": {
            "text/plain": [
              "RandomForestClassifier(bootstrap=True, ccp_alpha=0.0,\n",
              "                       class_weight={0: 1.0, 1: 2.0}, criterion='entropy',\n",
              "                       max_depth=9, max_features='auto', max_leaf_nodes=None,\n",
              "                       max_samples=None, min_impurity_decrease=0.0,\n",
              "                       min_impurity_split=None, min_samples_leaf=100,\n",
              "                       min_samples_split=2, min_weight_fraction_leaf=0.0,\n",
              "                       n_estimators=100, n_jobs=None, oob_score=False,\n",
              "                       random_state=None, verbose=0, warm_start=False)"
            ]
          },
          "metadata": {
            "tags": []
          },
          "execution_count": 17
        }
      ]
    },
    {
      "cell_type": "code",
      "metadata": {
        "id": "5nU8HKSiP0H5",
        "colab_type": "code",
        "colab": {
          "base_uri": "https://localhost:8080/",
          "height": 34
        },
        "outputId": "ccf2dfa2-3fb5-4ef3-d3a6-6f3e0023c1d7"
      },
      "source": [
        "# Evaluate the model using the evaluation set\n",
        "y_prediction = classifier.predict(x_validation)\n",
        "print(\"MCC\\t\\t: %.4f\" % matthews_corrcoef(y_validation, y_prediction))"
      ],
      "execution_count": 18,
      "outputs": [
        {
          "output_type": "stream",
          "text": [
            "MCC\t\t: 0.5311\n"
          ],
          "name": "stdout"
        }
      ]
    },
    {
      "cell_type": "code",
      "metadata": {
        "id": "P3Ks3u73QNh2",
        "colab_type": "code",
        "colab": {
          "base_uri": "https://localhost:8080/",
          "height": 279
        },
        "outputId": "671d8aea-d1fd-4836-b9e7-c59f11e00363"
      },
      "source": [
        "# Evaluate the model using confusion matrix\n",
        "plot_confusion_matrix(classifier, x_validation, y_validation, normalize='true');"
      ],
      "execution_count": 19,
      "outputs": [
        {
          "output_type": "display_data",
          "data": {
            "image/png": "[encoded data removed]",
            "text/plain": [
              "<Figure size 432x288 with 2 Axes>"
            ]
          },
          "metadata": {
            "tags": [],
            "needs_background": "light"
          }
        }
      ]
    },
    {
      "cell_type": "markdown",
      "metadata": {
        "id": "BnrRUsddP3DP",
        "colab_type": "text"
      },
      "source": [
        "# Submission"
      ]
    },
    {
      "cell_type": "code",
      "metadata": {
        "id": "D45pRV9SmldE",
        "colab_type": "code",
        "colab": {
          "base_uri": "https://localhost:8080/",
          "height": 151
        },
        "outputId": "d7654712-c166-442c-e854-6b0ec904f761"
      },
      "source": [
        "# Retrain the classifier with all training data\n",
        "classifier = RandomForestClassifier(\n",
        "    n_estimators=model_selection.best_params_['n_estimators'],\n",
        "    class_weight=model_selection.best_params_['class_weight'],\n",
        "    criterion=model_selection.best_params_['criterion'],\n",
        "    max_depth=model_selection.best_params_['max_depth'],\n",
        "    min_samples_leaf=model_selection.best_params_['min_samples_leaf']\n",
        ")\n",
        "classifier.fit(x, y)"
      ],
      "execution_count": 20,
      "outputs": [
        {
          "output_type": "execute_result",
          "data": {
            "text/plain": [
              "RandomForestClassifier(bootstrap=True, ccp_alpha=0.0,\n",
              "                       class_weight={0: 1.0, 1: 2.0}, criterion='entropy',\n",
              "                       max_depth=9, max_features='auto', max_leaf_nodes=None,\n",
              "                       max_samples=None, min_impurity_decrease=0.0,\n",
              "                       min_impurity_split=None, min_samples_leaf=100,\n",
              "                       min_samples_split=2, min_weight_fraction_leaf=0.0,\n",
              "                       n_estimators=100, n_jobs=None, oob_score=False,\n",
              "                       random_state=None, verbose=0, warm_start=False)"
            ]
          },
          "metadata": {
            "tags": []
          },
          "execution_count": 20
        }
      ]
    },
    {
      "cell_type": "code",
      "metadata": {
        "id": "BeRmpHxsP1BU",
        "colab_type": "code",
        "colab": {}
      },
      "source": [
        "# Generate prediction\n",
        "prediction = classifier.predict(x_test)\n",
        "test_data['open_flag'] = prediction"
      ],
      "execution_count": 21,
      "outputs": []
    },
    {
      "cell_type": "code",
      "metadata": {
        "id": "CLosYvkyP467",
        "colab_type": "code",
        "colab": {}
      },
      "source": [
        "# Generate submission file\n",
        "test_data.loc[:, ['row_id', 'open_flag']].to_csv('submission.csv', index=False)"
      ],
      "execution_count": 22,
      "outputs": []
    }
  ]
}