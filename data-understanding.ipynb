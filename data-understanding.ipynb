{
  "nbformat": 4,
  "nbformat_minor": 0,
  "metadata": {
    "colab": {
      "name": "data-understanding.ipynb",
      "provenance": []
    },
    "kernelspec": {
      "name": "python3",
      "display_name": "Python 3"
    }
  },
  "cells": [
    {
      "cell_type": "code",
      "metadata": {
        "id": "gI05QoyeSspt",
        "colab_type": "code",
        "colab": {}
      },
      "source": [
        "import numpy as np\n",
        "import pandas as pd"
      ],
      "execution_count": 1,
      "outputs": []
    },
    {
      "cell_type": "code",
      "metadata": {
        "id": "RiZRIPeBS9gb",
        "colab_type": "code",
        "colab": {
          "base_uri": "https://localhost:8080/",
          "height": 34
        },
        "outputId": "13c376e1-fe7f-46f9-a1b5-78191cbec988"
      },
      "source": [
        "# Mount gdrive\n",
        "from google.colab import drive, files\n",
        "drive.mount('gdrive')"
      ],
      "execution_count": 2,
      "outputs": [
        {
          "output_type": "stream",
          "text": [
            "Drive already mounted at gdrive; to attempt to forcibly remount, call drive.mount(\"gdrive\", force_remount=True).\n"
          ],
          "name": "stdout"
        }
      ]
    },
    {
      "cell_type": "code",
      "metadata": {
        "id": "9NMrRf2_S_hX",
        "colab_type": "code",
        "colab": {}
      },
      "source": [
        "# Specify input file location\n",
        "training_file = 'gdrive/My Drive/shopee/train.csv'\n",
        "test_file = 'gdrive/My Drive/shopee/test.csv'\n",
        "user_file = 'gdrive/My Drive/shopee/users.csv'"
      ],
      "execution_count": 3,
      "outputs": []
    },
    {
      "cell_type": "code",
      "metadata": {
        "id": "NS98D80aTLWD",
        "colab_type": "code",
        "colab": {}
      },
      "source": [
        "# Load dataset\n",
        "training_data = pd.read_csv(training_file)\n",
        "test_data = pd.read_csv(test_file)\n",
        "user_data = pd.read_csv(user_file)"
      ],
      "execution_count": 4,
      "outputs": []
    },
    {
      "cell_type": "code",
      "metadata": {
        "id": "ruoLkLF8TDxj",
        "colab_type": "code",
        "colab": {
          "base_uri": "https://localhost:8080/",
          "height": 299
        },
        "outputId": "bfef006f-4bb8-497f-ba85-b3f962d27bcd"
      },
      "source": [
        "# Show some samples of training data\n",
        "training_data.head()"
      ],
      "execution_count": 5,
      "outputs": [
        {
          "output_type": "execute_result",
          "data": {
            "text/html": [
              "<div>\n",
              "<style scoped>\n",
              "    .dataframe tbody tr th:only-of-type {\n",
              "        vertical-align: middle;\n",
              "    }\n",
              "\n",
              "    .dataframe tbody tr th {\n",
              "        vertical-align: top;\n",
              "    }\n",
              "\n",
              "    .dataframe thead th {\n",
              "        text-align: right;\n",
              "    }\n",
              "</style>\n",
              "<table border=\"1\" class=\"dataframe\">\n",
              "  <thead>\n",
              "    <tr style=\"text-align: right;\">\n",
              "      <th></th>\n",
              "      <th>country_code</th>\n",
              "      <th>grass_date</th>\n",
              "      <th>user_id</th>\n",
              "      <th>subject_line_length</th>\n",
              "      <th>last_open_day</th>\n",
              "      <th>last_login_day</th>\n",
              "      <th>last_checkout_day</th>\n",
              "      <th>open_count_last_10_days</th>\n",
              "      <th>open_count_last_30_days</th>\n",
              "      <th>open_count_last_60_days</th>\n",
              "      <th>login_count_last_10_days</th>\n",
              "      <th>login_count_last_30_days</th>\n",
              "      <th>login_count_last_60_days</th>\n",
              "      <th>checkout_count_last_10_days</th>\n",
              "      <th>checkout_count_last_30_days</th>\n",
              "      <th>checkout_count_last_60_days</th>\n",
              "      <th>open_flag</th>\n",
              "      <th>row_id</th>\n",
              "    </tr>\n",
              "  </thead>\n",
              "  <tbody>\n",
              "    <tr>\n",
              "      <th>0</th>\n",
              "      <td>4</td>\n",
              "      <td>2019-07-16 00:00:00+08:00</td>\n",
              "      <td>43</td>\n",
              "      <td>44</td>\n",
              "      <td>19</td>\n",
              "      <td>6</td>\n",
              "      <td>18</td>\n",
              "      <td>0</td>\n",
              "      <td>2</td>\n",
              "      <td>4</td>\n",
              "      <td>12</td>\n",
              "      <td>43</td>\n",
              "      <td>99</td>\n",
              "      <td>0</td>\n",
              "      <td>5</td>\n",
              "      <td>10</td>\n",
              "      <td>0</td>\n",
              "      <td>0</td>\n",
              "    </tr>\n",
              "    <tr>\n",
              "      <th>1</th>\n",
              "      <td>4</td>\n",
              "      <td>2019-07-16 00:00:00+08:00</td>\n",
              "      <td>102</td>\n",
              "      <td>44</td>\n",
              "      <td>9</td>\n",
              "      <td>4</td>\n",
              "      <td>8</td>\n",
              "      <td>2</td>\n",
              "      <td>9</td>\n",
              "      <td>17</td>\n",
              "      <td>18</td>\n",
              "      <td>48</td>\n",
              "      <td>90</td>\n",
              "      <td>1</td>\n",
              "      <td>1</td>\n",
              "      <td>4</td>\n",
              "      <td>1</td>\n",
              "      <td>1</td>\n",
              "    </tr>\n",
              "    <tr>\n",
              "      <th>2</th>\n",
              "      <td>6</td>\n",
              "      <td>2019-07-16 00:00:00+08:00</td>\n",
              "      <td>177</td>\n",
              "      <td>49</td>\n",
              "      <td>14</td>\n",
              "      <td>5</td>\n",
              "      <td>5</td>\n",
              "      <td>0</td>\n",
              "      <td>4</td>\n",
              "      <td>12</td>\n",
              "      <td>24</td>\n",
              "      <td>69</td>\n",
              "      <td>119</td>\n",
              "      <td>5</td>\n",
              "      <td>19</td>\n",
              "      <td>27</td>\n",
              "      <td>0</td>\n",
              "      <td>2</td>\n",
              "    </tr>\n",
              "    <tr>\n",
              "      <th>3</th>\n",
              "      <td>1</td>\n",
              "      <td>2019-07-16 00:00:00+08:00</td>\n",
              "      <td>184</td>\n",
              "      <td>49</td>\n",
              "      <td>49</td>\n",
              "      <td>9</td>\n",
              "      <td>53</td>\n",
              "      <td>0</td>\n",
              "      <td>0</td>\n",
              "      <td>1</td>\n",
              "      <td>9</td>\n",
              "      <td>23</td>\n",
              "      <td>69</td>\n",
              "      <td>1</td>\n",
              "      <td>3</td>\n",
              "      <td>6</td>\n",
              "      <td>0</td>\n",
              "      <td>3</td>\n",
              "    </tr>\n",
              "    <tr>\n",
              "      <th>4</th>\n",
              "      <td>6</td>\n",
              "      <td>2019-07-16 00:00:00+08:00</td>\n",
              "      <td>221</td>\n",
              "      <td>49</td>\n",
              "      <td>227</td>\n",
              "      <td>6</td>\n",
              "      <td>221</td>\n",
              "      <td>0</td>\n",
              "      <td>0</td>\n",
              "      <td>0</td>\n",
              "      <td>2</td>\n",
              "      <td>5</td>\n",
              "      <td>5</td>\n",
              "      <td>0</td>\n",
              "      <td>0</td>\n",
              "      <td>0</td>\n",
              "      <td>0</td>\n",
              "      <td>4</td>\n",
              "    </tr>\n",
              "  </tbody>\n",
              "</table>\n",
              "</div>"
            ],
            "text/plain": [
              "   country_code                 grass_date  ...  open_flag  row_id\n",
              "0             4  2019-07-16 00:00:00+08:00  ...          0       0\n",
              "1             4  2019-07-16 00:00:00+08:00  ...          1       1\n",
              "2             6  2019-07-16 00:00:00+08:00  ...          0       2\n",
              "3             1  2019-07-16 00:00:00+08:00  ...          0       3\n",
              "4             6  2019-07-16 00:00:00+08:00  ...          0       4\n",
              "\n",
              "[5 rows x 18 columns]"
            ]
          },
          "metadata": {
            "tags": []
          },
          "execution_count": 5
        }
      ]
    },
    {
      "cell_type": "code",
      "metadata": {
        "id": "vVbuNlY1TIQ5",
        "colab_type": "code",
        "colab": {
          "base_uri": "https://localhost:8080/",
          "height": 437
        },
        "outputId": "a7a7ae6e-e19b-464d-8521-2e8f966da5c6"
      },
      "source": [
        "# Show more info about training data\n",
        "training_data.info()"
      ],
      "execution_count": 6,
      "outputs": [
        {
          "output_type": "stream",
          "text": [
            "<class 'pandas.core.frame.DataFrame'>\n",
            "RangeIndex: 73539 entries, 0 to 73538\n",
            "Data columns (total 18 columns):\n",
            " #   Column                       Non-Null Count  Dtype \n",
            "---  ------                       --------------  ----- \n",
            " 0   country_code                 73539 non-null  int64 \n",
            " 1   grass_date                   73539 non-null  object\n",
            " 2   user_id                      73539 non-null  int64 \n",
            " 3   subject_line_length          73539 non-null  int64 \n",
            " 4   last_open_day                73539 non-null  object\n",
            " 5   last_login_day               73539 non-null  object\n",
            " 6   last_checkout_day            73539 non-null  object\n",
            " 7   open_count_last_10_days      73539 non-null  int64 \n",
            " 8   open_count_last_30_days      73539 non-null  int64 \n",
            " 9   open_count_last_60_days      73539 non-null  int64 \n",
            " 10  login_count_last_10_days     73539 non-null  int64 \n",
            " 11  login_count_last_30_days     73539 non-null  int64 \n",
            " 12  login_count_last_60_days     73539 non-null  int64 \n",
            " 13  checkout_count_last_10_days  73539 non-null  int64 \n",
            " 14  checkout_count_last_30_days  73539 non-null  int64 \n",
            " 15  checkout_count_last_60_days  73539 non-null  int64 \n",
            " 16  open_flag                    73539 non-null  int64 \n",
            " 17  row_id                       73539 non-null  int64 \n",
            "dtypes: int64(14), object(4)\n",
            "memory usage: 10.1+ MB\n"
          ],
          "name": "stdout"
        }
      ]
    },
    {
      "cell_type": "code",
      "metadata": {
        "id": "SrunJFbyTOMw",
        "colab_type": "code",
        "colab": {
          "base_uri": "https://localhost:8080/",
          "height": 299
        },
        "outputId": "338eac15-4f10-4142-91e5-a52ee41e2437"
      },
      "source": [
        "# Show some samples of test data\n",
        "test_data.head()"
      ],
      "execution_count": 7,
      "outputs": [
        {
          "output_type": "execute_result",
          "data": {
            "text/html": [
              "<div>\n",
              "<style scoped>\n",
              "    .dataframe tbody tr th:only-of-type {\n",
              "        vertical-align: middle;\n",
              "    }\n",
              "\n",
              "    .dataframe tbody tr th {\n",
              "        vertical-align: top;\n",
              "    }\n",
              "\n",
              "    .dataframe thead th {\n",
              "        text-align: right;\n",
              "    }\n",
              "</style>\n",
              "<table border=\"1\" class=\"dataframe\">\n",
              "  <thead>\n",
              "    <tr style=\"text-align: right;\">\n",
              "      <th></th>\n",
              "      <th>country_code</th>\n",
              "      <th>grass_date</th>\n",
              "      <th>user_id</th>\n",
              "      <th>subject_line_length</th>\n",
              "      <th>last_open_day</th>\n",
              "      <th>last_login_day</th>\n",
              "      <th>last_checkout_day</th>\n",
              "      <th>open_count_last_10_days</th>\n",
              "      <th>open_count_last_30_days</th>\n",
              "      <th>open_count_last_60_days</th>\n",
              "      <th>login_count_last_10_days</th>\n",
              "      <th>login_count_last_30_days</th>\n",
              "      <th>login_count_last_60_days</th>\n",
              "      <th>checkout_count_last_10_days</th>\n",
              "      <th>checkout_count_last_30_days</th>\n",
              "      <th>checkout_count_last_60_days</th>\n",
              "      <th>row_id</th>\n",
              "    </tr>\n",
              "  </thead>\n",
              "  <tbody>\n",
              "    <tr>\n",
              "      <th>0</th>\n",
              "      <td>6</td>\n",
              "      <td>2019-09-03 00:00:00+08:00</td>\n",
              "      <td>0</td>\n",
              "      <td>35</td>\n",
              "      <td>27</td>\n",
              "      <td>2</td>\n",
              "      <td>13</td>\n",
              "      <td>2</td>\n",
              "      <td>3</td>\n",
              "      <td>4</td>\n",
              "      <td>10</td>\n",
              "      <td>34</td>\n",
              "      <td>134</td>\n",
              "      <td>0</td>\n",
              "      <td>6</td>\n",
              "      <td>18</td>\n",
              "      <td>0</td>\n",
              "    </tr>\n",
              "    <tr>\n",
              "      <th>1</th>\n",
              "      <td>6</td>\n",
              "      <td>2019-09-03 00:00:00+08:00</td>\n",
              "      <td>130</td>\n",
              "      <td>35</td>\n",
              "      <td>7</td>\n",
              "      <td>5</td>\n",
              "      <td>383</td>\n",
              "      <td>1</td>\n",
              "      <td>1</td>\n",
              "      <td>1</td>\n",
              "      <td>5</td>\n",
              "      <td>5</td>\n",
              "      <td>5</td>\n",
              "      <td>0</td>\n",
              "      <td>0</td>\n",
              "      <td>0</td>\n",
              "      <td>1</td>\n",
              "    </tr>\n",
              "    <tr>\n",
              "      <th>2</th>\n",
              "      <td>5</td>\n",
              "      <td>2019-09-03 00:00:00+08:00</td>\n",
              "      <td>150</td>\n",
              "      <td>25</td>\n",
              "      <td>34</td>\n",
              "      <td>1</td>\n",
              "      <td>3</td>\n",
              "      <td>0</td>\n",
              "      <td>0</td>\n",
              "      <td>0</td>\n",
              "      <td>13</td>\n",
              "      <td>19</td>\n",
              "      <td>38</td>\n",
              "      <td>2</td>\n",
              "      <td>2</td>\n",
              "      <td>2</td>\n",
              "      <td>2</td>\n",
              "    </tr>\n",
              "    <tr>\n",
              "      <th>3</th>\n",
              "      <td>1</td>\n",
              "      <td>2019-09-03 00:00:00+08:00</td>\n",
              "      <td>181</td>\n",
              "      <td>36</td>\n",
              "      <td>63</td>\n",
              "      <td>5</td>\n",
              "      <td>5</td>\n",
              "      <td>0</td>\n",
              "      <td>0</td>\n",
              "      <td>0</td>\n",
              "      <td>43</td>\n",
              "      <td>110</td>\n",
              "      <td>173</td>\n",
              "      <td>2</td>\n",
              "      <td>5</td>\n",
              "      <td>5</td>\n",
              "      <td>3</td>\n",
              "    </tr>\n",
              "    <tr>\n",
              "      <th>4</th>\n",
              "      <td>5</td>\n",
              "      <td>2019-09-03 00:00:00+08:00</td>\n",
              "      <td>192</td>\n",
              "      <td>23</td>\n",
              "      <td>6</td>\n",
              "      <td>5</td>\n",
              "      <td>54</td>\n",
              "      <td>0</td>\n",
              "      <td>0</td>\n",
              "      <td>0</td>\n",
              "      <td>4</td>\n",
              "      <td>12</td>\n",
              "      <td>39</td>\n",
              "      <td>0</td>\n",
              "      <td>0</td>\n",
              "      <td>2</td>\n",
              "      <td>4</td>\n",
              "    </tr>\n",
              "  </tbody>\n",
              "</table>\n",
              "</div>"
            ],
            "text/plain": [
              "   country_code                 grass_date  ...  checkout_count_last_60_days  row_id\n",
              "0             6  2019-09-03 00:00:00+08:00  ...                           18       0\n",
              "1             6  2019-09-03 00:00:00+08:00  ...                            0       1\n",
              "2             5  2019-09-03 00:00:00+08:00  ...                            2       2\n",
              "3             1  2019-09-03 00:00:00+08:00  ...                            5       3\n",
              "4             5  2019-09-03 00:00:00+08:00  ...                            2       4\n",
              "\n",
              "[5 rows x 17 columns]"
            ]
          },
          "metadata": {
            "tags": []
          },
          "execution_count": 7
        }
      ]
    },
    {
      "cell_type": "code",
      "metadata": {
        "id": "3TxvpvnxTPdu",
        "colab_type": "code",
        "colab": {
          "base_uri": "https://localhost:8080/",
          "height": 420
        },
        "outputId": "244f089c-e33a-4f33-9ad5-a4dfbe23a9e2"
      },
      "source": [
        "# Show more info about test data\n",
        "test_data.info()"
      ],
      "execution_count": 8,
      "outputs": [
        {
          "output_type": "stream",
          "text": [
            "<class 'pandas.core.frame.DataFrame'>\n",
            "RangeIndex: 55970 entries, 0 to 55969\n",
            "Data columns (total 17 columns):\n",
            " #   Column                       Non-Null Count  Dtype \n",
            "---  ------                       --------------  ----- \n",
            " 0   country_code                 55970 non-null  int64 \n",
            " 1   grass_date                   55970 non-null  object\n",
            " 2   user_id                      55970 non-null  int64 \n",
            " 3   subject_line_length          55970 non-null  int64 \n",
            " 4   last_open_day                55970 non-null  object\n",
            " 5   last_login_day               55970 non-null  object\n",
            " 6   last_checkout_day            55970 non-null  object\n",
            " 7   open_count_last_10_days      55970 non-null  int64 \n",
            " 8   open_count_last_30_days      55970 non-null  int64 \n",
            " 9   open_count_last_60_days      55970 non-null  int64 \n",
            " 10  login_count_last_10_days     55970 non-null  int64 \n",
            " 11  login_count_last_30_days     55970 non-null  int64 \n",
            " 12  login_count_last_60_days     55970 non-null  int64 \n",
            " 13  checkout_count_last_10_days  55970 non-null  int64 \n",
            " 14  checkout_count_last_30_days  55970 non-null  int64 \n",
            " 15  checkout_count_last_60_days  55970 non-null  int64 \n",
            " 16  row_id                       55970 non-null  int64 \n",
            "dtypes: int64(13), object(4)\n",
            "memory usage: 7.3+ MB\n"
          ],
          "name": "stdout"
        }
      ]
    },
    {
      "cell_type": "code",
      "metadata": {
        "id": "9BOoBQw-TQcu",
        "colab_type": "code",
        "colab": {
          "base_uri": "https://localhost:8080/",
          "height": 195
        },
        "outputId": "90a610fc-7f7a-4486-899a-a27e02aeea71"
      },
      "source": [
        "# Show some samples of user data\n",
        "user_data.head()"
      ],
      "execution_count": 9,
      "outputs": [
        {
          "output_type": "execute_result",
          "data": {
            "text/html": [
              "<div>\n",
              "<style scoped>\n",
              "    .dataframe tbody tr th:only-of-type {\n",
              "        vertical-align: middle;\n",
              "    }\n",
              "\n",
              "    .dataframe tbody tr th {\n",
              "        vertical-align: top;\n",
              "    }\n",
              "\n",
              "    .dataframe thead th {\n",
              "        text-align: right;\n",
              "    }\n",
              "</style>\n",
              "<table border=\"1\" class=\"dataframe\">\n",
              "  <thead>\n",
              "    <tr style=\"text-align: right;\">\n",
              "      <th></th>\n",
              "      <th>user_id</th>\n",
              "      <th>attr_1</th>\n",
              "      <th>attr_2</th>\n",
              "      <th>attr_3</th>\n",
              "      <th>age</th>\n",
              "      <th>domain</th>\n",
              "    </tr>\n",
              "  </thead>\n",
              "  <tbody>\n",
              "    <tr>\n",
              "      <th>0</th>\n",
              "      <td>0</td>\n",
              "      <td>NaN</td>\n",
              "      <td>1.0</td>\n",
              "      <td>0.0</td>\n",
              "      <td>NaN</td>\n",
              "      <td>@gmail.com</td>\n",
              "    </tr>\n",
              "    <tr>\n",
              "      <th>1</th>\n",
              "      <td>1</td>\n",
              "      <td>1.0</td>\n",
              "      <td>1.0</td>\n",
              "      <td>2.0</td>\n",
              "      <td>50.0</td>\n",
              "      <td>@gmail.com</td>\n",
              "    </tr>\n",
              "    <tr>\n",
              "      <th>2</th>\n",
              "      <td>2</td>\n",
              "      <td>NaN</td>\n",
              "      <td>1.0</td>\n",
              "      <td>0.0</td>\n",
              "      <td>NaN</td>\n",
              "      <td>other</td>\n",
              "    </tr>\n",
              "    <tr>\n",
              "      <th>3</th>\n",
              "      <td>3</td>\n",
              "      <td>NaN</td>\n",
              "      <td>1.0</td>\n",
              "      <td>0.0</td>\n",
              "      <td>NaN</td>\n",
              "      <td>@gmail.com</td>\n",
              "    </tr>\n",
              "    <tr>\n",
              "      <th>4</th>\n",
              "      <td>4</td>\n",
              "      <td>1.0</td>\n",
              "      <td>1.0</td>\n",
              "      <td>2.0</td>\n",
              "      <td>33.0</td>\n",
              "      <td>@gmail.com</td>\n",
              "    </tr>\n",
              "  </tbody>\n",
              "</table>\n",
              "</div>"
            ],
            "text/plain": [
              "   user_id  attr_1  attr_2  attr_3   age      domain\n",
              "0        0     NaN     1.0     0.0   NaN  @gmail.com\n",
              "1        1     1.0     1.0     2.0  50.0  @gmail.com\n",
              "2        2     NaN     1.0     0.0   NaN       other\n",
              "3        3     NaN     1.0     0.0   NaN  @gmail.com\n",
              "4        4     1.0     1.0     2.0  33.0  @gmail.com"
            ]
          },
          "metadata": {
            "tags": []
          },
          "execution_count": 9
        }
      ]
    },
    {
      "cell_type": "code",
      "metadata": {
        "id": "vK379j3XTRaF",
        "colab_type": "code",
        "colab": {
          "base_uri": "https://localhost:8080/",
          "height": 235
        },
        "outputId": "8b42590e-06ea-4508-fb1c-b6d495524a97"
      },
      "source": [
        "# Show more info about user data\n",
        "user_data.info()"
      ],
      "execution_count": 10,
      "outputs": [
        {
          "output_type": "stream",
          "text": [
            "<class 'pandas.core.frame.DataFrame'>\n",
            "RangeIndex: 127886 entries, 0 to 127885\n",
            "Data columns (total 6 columns):\n",
            " #   Column   Non-Null Count   Dtype  \n",
            "---  ------   --------------   -----  \n",
            " 0   user_id  127886 non-null  int64  \n",
            " 1   attr_1   78987 non-null   float64\n",
            " 2   attr_2   127439 non-null  float64\n",
            " 3   attr_3   127886 non-null  float64\n",
            " 4   age      78987 non-null   float64\n",
            " 5   domain   127886 non-null  object \n",
            "dtypes: float64(4), int64(1), object(1)\n",
            "memory usage: 5.9+ MB\n"
          ],
          "name": "stdout"
        }
      ]
    },
    {
      "cell_type": "code",
      "metadata": {
        "id": "kc621MErTSkO",
        "colab_type": "code",
        "colab": {
          "base_uri": "https://localhost:8080/",
          "height": 84
        },
        "outputId": "337c16cd-f87c-423c-8f36-cc5d6b3fc408"
      },
      "source": [
        "# Show class distribution\n",
        "training_data.groupby('open_flag')['user_id'].count()"
      ],
      "execution_count": 11,
      "outputs": [
        {
          "output_type": "execute_result",
          "data": {
            "text/plain": [
              "open_flag\n",
              "0    62083\n",
              "1    11456\n",
              "Name: user_id, dtype: int64"
            ]
          },
          "metadata": {
            "tags": []
          },
          "execution_count": 11
        }
      ]
    },
    {
      "cell_type": "code",
      "metadata": {
        "id": "rH3_c7Y7TTh2",
        "colab_type": "code",
        "colab": {
          "base_uri": "https://localhost:8080/",
          "height": 277
        },
        "outputId": "6c90abf8-3f87-4ca3-b8da-92483449106d"
      },
      "source": [
        "# Plot class distribution\n",
        "training_data.groupby('open_flag')['user_id'].count().plot(kind='bar');"
      ],
      "execution_count": 12,
      "outputs": [
        {
          "output_type": "display_data",
          "data": {
            "image/png": "[encoded data removed]",
            "text/plain": [
              "<Figure size 432x288 with 1 Axes>"
            ]
          },
          "metadata": {
            "tags": [],
            "needs_background": "light"
          }
        }
      ]
    },
    {
      "cell_type": "code",
      "metadata": {
        "id": "WBJ-wjXrTUZq",
        "colab_type": "code",
        "colab": {}
      },
      "source": [
        "# Combine training and test data with user data\n",
        "training_data = pd.merge(training_data, user_data, on='user_id', how='inner')\n",
        "test_data = pd.merge(test_data, user_data, on='user_id', how='inner')"
      ],
      "execution_count": 13,
      "outputs": []
    },
    {
      "cell_type": "code",
      "metadata": {
        "id": "xAEyo45gTYlU",
        "colab_type": "code",
        "colab": {}
      },
      "source": [
        "# Change column type in training data\n",
        "training_data['country_code'] = training_data['country_code'].astype('str')\n",
        "training_data['attr_3'] = training_data['attr_3'].astype('str')\n",
        "training_data['grass_date'] = pd.to_datetime(\n",
        "    training_data.grass_date, \n",
        "    format='%Y-%m-%d %H:%M:%S', \n",
        "    errors='coerce'\n",
        ")\n",
        "\n",
        "# Change column type in test data\n",
        "test_data['country_code'] = test_data['country_code'].astype('str')\n",
        "test_data['attr_3'] = test_data['attr_3'].astype('str')\n",
        "test_data['grass_date'] = pd.to_datetime(\n",
        "    test_data.grass_date, \n",
        "    format='%Y-%m-%d %H:%M:%S', \n",
        "    errors='coerce'\n",
        ")"
      ],
      "execution_count": 14,
      "outputs": []
    },
    {
      "cell_type": "code",
      "metadata": {
        "id": "5DUZoGwYTZkY",
        "colab_type": "code",
        "colab": {}
      },
      "source": [
        "# Specify some interesting variables\n",
        "variables = [\n",
        "    'country_code',\n",
        "    'subject_line_length', \n",
        "    'open_count_last_10_days',\n",
        "    'open_count_last_30_days',\n",
        "    'open_count_last_60_days',\n",
        "    'login_count_last_10_days',\n",
        "    'login_count_last_30_days',\n",
        "    'login_count_last_60_days',\n",
        "    'checkout_count_last_10_days',\n",
        "    'checkout_count_last_30_days',\n",
        "    'checkout_count_last_60_days',\n",
        "    'open_flag'\n",
        "]"
      ],
      "execution_count": 15,
      "outputs": []
    },
    {
      "cell_type": "code",
      "metadata": {
        "id": "43KBWiAxTayU",
        "colab_type": "code",
        "colab": {}
      },
      "source": [
        "# Take a subset of data using the selected variables\n",
        "subset = training_data[variables]"
      ],
      "execution_count": 16,
      "outputs": []
    },
    {
      "cell_type": "code",
      "metadata": {
        "id": "Wv11FTsbTb3H",
        "colab_type": "code",
        "colab": {}
      },
      "source": [
        "# Encode the categorical variables\n",
        "subset = pd.get_dummies(subset)"
      ],
      "execution_count": 17,
      "outputs": []
    },
    {
      "cell_type": "code",
      "metadata": {
        "id": "PFXRZ3EiTc59",
        "colab_type": "code",
        "colab": {
          "base_uri": "https://localhost:8080/",
          "height": 336
        },
        "outputId": "9353f982-b93e-443d-ecaf-0dcc01eae603"
      },
      "source": [
        "# Perform correlation analysis towards target variable\n",
        "subset.corr()['open_flag']"
      ],
      "execution_count": 18,
      "outputs": [
        {
          "output_type": "execute_result",
          "data": {
            "text/plain": [
              "subject_line_length           -0.057357\n",
              "open_count_last_10_days        0.515307\n",
              "open_count_last_30_days        0.507853\n",
              "open_count_last_60_days        0.477766\n",
              "login_count_last_10_days       0.014023\n",
              "login_count_last_30_days       0.010134\n",
              "login_count_last_60_days       0.008633\n",
              "checkout_count_last_10_days    0.015573\n",
              "checkout_count_last_30_days    0.013419\n",
              "checkout_count_last_60_days    0.010231\n",
              "open_flag                      1.000000\n",
              "country_code_1                -0.163462\n",
              "country_code_2                 0.047029\n",
              "country_code_3                -0.032401\n",
              "country_code_4                 0.163466\n",
              "country_code_5                 0.046842\n",
              "country_code_6                 0.039069\n",
              "country_code_7                 0.044194\n",
              "Name: open_flag, dtype: float64"
            ]
          },
          "metadata": {
            "tags": []
          },
          "execution_count": 18
        }
      ]
    },
    {
      "cell_type": "code",
      "metadata": {
        "id": "J4CVsT-9YUld",
        "colab_type": "code",
        "colab": {
          "base_uri": "https://localhost:8080/",
          "height": 362
        },
        "outputId": "f3d1a6f6-5b54-4ee8-aa85-ea9a087dd56e"
      },
      "source": [
        "# Plot the subject_line_length data\n",
        "training_data \\\n",
        "    .loc[:, ['subject_line_length', 'open_flag']] \\\n",
        "    .boxplot(column='subject_line_length', by='open_flag', figsize=(5, 5));"
      ],
      "execution_count": 19,
      "outputs": [
        {
          "output_type": "display_data",
          "data": {
            "image/png": "[encoded data removed]",
            "text/plain": [
              "<Figure size 360x360 with 1 Axes>"
            ]
          },
          "metadata": {
            "tags": [],
            "needs_background": "light"
          }
        }
      ]
    },
    {
      "cell_type": "code",
      "metadata": {
        "id": "ArTCzy2DfYis",
        "colab_type": "code",
        "colab": {
          "base_uri": "https://localhost:8080/",
          "height": 362
        },
        "outputId": "2bec137f-631c-41be-e495-5ee2925fd0f1"
      },
      "source": [
        "# Plot the open_count_last_10_days data\n",
        "training_data \\\n",
        "    .loc[:, ['open_count_last_10_days', 'open_flag']] \\\n",
        "    .boxplot(column='open_count_last_10_days', by='open_flag', figsize=(5, 5));"
      ],
      "execution_count": 20,
      "outputs": [
        {
          "output_type": "display_data",
          "data": {
            "image/png": "[encoded data removed]",
            "text/plain": [
              "<Figure size 360x360 with 1 Axes>"
            ]
          },
          "metadata": {
            "tags": [],
            "needs_background": "light"
          }
        }
      ]
    },
    {
      "cell_type": "code",
      "metadata": {
        "id": "yxPKpNeF0g0J",
        "colab_type": "code",
        "colab": {
          "base_uri": "https://localhost:8080/",
          "height": 331
        },
        "outputId": "b77294ab-a14b-4161-8bc5-fbc381c0ebad"
      },
      "source": [
        "# Plot the country code data\n",
        "training_data. \\\n",
        "    groupby(['country_code', 'open_flag'])['user_id'].count().reset_index(). \\\n",
        "    pivot(index='country_code', columns='open_flag', values='user_id'). \\\n",
        "    plot.bar(figsize=(5,5), grid=True);"
      ],
      "execution_count": 21,
      "outputs": [
        {
          "output_type": "display_data",
          "data": {
            "image/png": "[encoded data removed]",
            "text/plain": [
              "<Figure size 360x360 with 1 Axes>"
            ]
          },
          "metadata": {
            "tags": [],
            "needs_background": "light"
          }
        }
      ]
    }
  ]
}